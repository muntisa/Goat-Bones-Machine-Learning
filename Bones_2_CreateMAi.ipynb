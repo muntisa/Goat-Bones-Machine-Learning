{
 "cells": [
  {
   "cell_type": "markdown",
   "metadata": {},
   "source": [
    "# Create MAs using individual ECs\n",
    "\n",
    "This script is a modified version of Bones_1_CreateMA.ipynb in order to create MAs for each type of EC."
   ]
  },
  {
   "cell_type": "code",
   "execution_count": null,
   "metadata": {},
   "outputs": [],
   "source": [
    "%reload_ext autoreload\n",
    "%autoreload 2\n",
    "%matplotlib inline\n",
    "\n",
    "# remove warnings\n",
    "import warnings\n",
    "warnings.filterwarnings(\"ignore\", category=DeprecationWarning) "
   ]
  },
  {
   "cell_type": "code",
   "execution_count": null,
   "metadata": {},
   "outputs": [],
   "source": [
    "import numpy as np\n",
    "import pandas as pd\n",
    "import time\n",
    "import matplotlib.pyplot as plt\n",
    "\n",
    "from sklearn.preprocessing import StandardScaler, MinMaxScaler, RobustScaler\n",
    "from sklearn.externals import joblib"
   ]
  },
  {
   "cell_type": "markdown",
   "metadata": {},
   "source": [
    "## Create MAs by each EC"
   ]
  },
  {
   "cell_type": "code",
   "execution_count": null,
   "metadata": {},
   "outputs": [],
   "source": [
    "# read datasets\n",
    "df_source = pd.read_csv('./datasets/ds.bones_MA_details.csv')"
   ]
  },
  {
   "cell_type": "code",
   "execution_count": null,
   "metadata": {},
   "outputs": [],
   "source": [
    "df_source.head()"
   ]
  },
  {
   "cell_type": "code",
   "execution_count": null,
   "metadata": {},
   "outputs": [],
   "source": [
    "df_source.columns"
   ]
  },
  {
   "cell_type": "code",
   "execution_count": null,
   "metadata": {},
   "outputs": [],
   "source": [
    "exper_conds  = ['Animal', 'Treat', 'Period']\n",
    "features     = ['PTH', 'BALP', 'BGLAP', 'INTP', 'TRAP', 'CTX-I']"
   ]
  },
  {
   "cell_type": "code",
   "execution_count": null,
   "metadata": {},
   "outputs": [],
   "source": [
    "print('-> Creating MAs for each EC ...')\n",
    "df_raw = df_source.copy()\n",
    "\n",
    "for experim in exper_conds:    # for each experimental condition colunm\n",
    "    for descr in features:  # for each input feature of metabolism\n",
    "        # calculate the Avg for a pair of experimental conditions and a descriptor\n",
    "        avgs = df_raw.groupby(experim, as_index = False).agg({descr:\"mean\"})\n",
    "\n",
    "        # rename the avg column name\n",
    "        avgs = avgs.rename(columns={descr: 'avg-'+ descr + '-' + experim})\n",
    "\n",
    "        # merge an Avg to dataset\n",
    "        df_raw = pd.merge(df_raw, avgs, on=experim)\n",
    "\n",
    "        # add MA to the dataset for pair Exp cond - descr\n",
    "        df_raw['MA-'+descr+'-'+experim] = df_raw[descr] - df_raw['avg-'+descr+'-'+experim]\n",
    "print(\"Done!\")"
   ]
  },
  {
   "cell_type": "code",
   "execution_count": null,
   "metadata": {},
   "outputs": [],
   "source": [
    "df_raw.columns"
   ]
  },
  {
   "cell_type": "code",
   "execution_count": null,
   "metadata": {},
   "outputs": [],
   "source": [
    "print('--> Saving the dataset with all MA details ...')\n",
    "df_raw.to_csv('./datasets/ds.bones_MA2_details.csv', index=False)\n",
    "print('Done!')"
   ]
  },
  {
   "cell_type": "code",
   "execution_count": null,
   "metadata": {},
   "outputs": [],
   "source": []
  }
 ],
 "metadata": {
  "kernelspec": {
   "display_name": "Python 3",
   "language": "python",
   "name": "python3"
  },
  "language_info": {
   "codemirror_mode": {
    "name": "ipython",
    "version": 3
   },
   "file_extension": ".py",
   "mimetype": "text/x-python",
   "name": "python",
   "nbconvert_exporter": "python",
   "pygments_lexer": "ipython3",
   "version": "3.7.1"
  }
 },
 "nbformat": 4,
 "nbformat_minor": 2
}
