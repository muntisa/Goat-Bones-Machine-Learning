{
 "cells": [
  {
   "cell_type": "markdown",
   "metadata": {},
   "source": [
    "# Create Datasets\n",
    "\n",
    "We will use previous files with MA (all EC) and MA2 (individual EC), and class transformed outputs. After mixing all data we have, we will create different datasets for each output using different combinations of input features. The datasets with MAs will be saved in *datasets2* and the datasets with classical one-hot encoding of ECs (no MAs!) will be saved in *datasets3*."
   ]
  },
  {
   "cell_type": "code",
   "execution_count": null,
   "metadata": {},
   "outputs": [],
   "source": [
    "%reload_ext autoreload\n",
    "%autoreload 2\n",
    "%matplotlib inline\n",
    "\n",
    "# remove warnings\n",
    "import warnings\n",
    "warnings.filterwarnings(\"ignore\", category=DeprecationWarning) "
   ]
  },
  {
   "cell_type": "code",
   "execution_count": null,
   "metadata": {},
   "outputs": [],
   "source": [
    "import numpy as np\n",
    "import pandas as pd"
   ]
  },
  {
   "cell_type": "code",
   "execution_count": null,
   "metadata": {},
   "outputs": [],
   "source": [
    "# read 3 previous generated datasets\n",
    "df_oneHot = pd.read_csv('./datasets/ds.bones_raw_onehot.csv')  # outputs as numbers + one-hot encoding\n",
    "df_MAmix  = pd.read_csv('./datasets/ds.bones_MA_details.csv')  # outputs as classes + MAmix (MAs for a set of ECs)\n",
    "df_MAi    = pd.read_csv('./datasets/ds.bones_MA2_details.csv') # outputs as classes + MAi   (MAs for individual EC)"
   ]
  },
  {
   "cell_type": "code",
   "execution_count": null,
   "metadata": {},
   "outputs": [],
   "source": [
    "print(list(df_oneHot.columns))"
   ]
  },
  {
   "cell_type": "code",
   "execution_count": null,
   "metadata": {},
   "outputs": [],
   "source": [
    "print(list(df_MAmix.columns))"
   ]
  },
  {
   "cell_type": "code",
   "execution_count": null,
   "metadata": {},
   "outputs": [],
   "source": [
    "print(list(df_MAi.columns))"
   ]
  },
  {
   "cell_type": "markdown",
   "metadata": {},
   "source": [
    "Concatenate datasets into one single file with all data. Use of SerNum ID to mix data."
   ]
  },
  {
   "cell_type": "code",
   "execution_count": null,
   "metadata": {},
   "outputs": [],
   "source": [
    "# define sets of column names for future merging\n",
    "\n",
    "cols_EC = ['Animal', 'Treat', 'Period']\n",
    "cols_EC_onehot = ['Animal_Fetus', 'Animal_Mon', 'Treat_Con', 'Treat_Res', 'Period_Late', 'Period_Mid']\n",
    "\n",
    "cols_outputNum = ['Fw', 'Fl', 'Fd', 'Hw', 'Hl', 'Hd']\n",
    "cols_outputClass = ['Fw_Class', 'Fl_Class', 'Fd_Class', 'Hw_Class', 'Hl_Class', 'Hd_Class']\n",
    "\n",
    "cols_metabolism = ['PTH', 'BALP', 'BGLAP', 'INTP', 'TRAP', 'CTX-I']\n",
    "cols_MAmix = ['MA-PTH-experim' , 'MA-BALP-experim', 'MA-BGLAP-experim',\n",
    "              'MA-INTP-experim', 'MA-TRAP-experim', 'MA-CTX-I-experim']\n",
    "cols_MAi= ['MA-PTH-Animal', 'MA-BALP-Animal', 'MA-BGLAP-Animal', 'MA-INTP-Animal',\n",
    "           'MA-TRAP-Animal','MA-CTX-I-Animal','MA-PTH-Treat', 'MA-BALP-Treat', \n",
    "           'MA-BGLAP-Treat', 'MA-INTP-Treat', 'MA-TRAP-Treat', 'MA-CTX-I-Treat', \n",
    "           'MA-PTH-Period', 'MA-BALP-Period', 'MA-BGLAP-Period', 'MA-INTP-Period', \n",
    "           'MA-TRAP-Period', 'MA-CTX-I-Period']\n",
    "\n",
    "cols_aux = ['no1', 'no2']\n",
    "cols_key = ['SerNum']\n",
    "\n",
    "cols_pi =   ['Prob_Animal','Prob_Treat','Prob_Period']\n",
    "cols_pmix = ['Prob_Mix']"
   ]
  },
  {
   "cell_type": "code",
   "execution_count": null,
   "metadata": {},
   "outputs": [],
   "source": [
    "df = df_oneHot.copy() # starting with oneHot dataset"
   ]
  },
  {
   "cell_type": "code",
   "execution_count": null,
   "metadata": {},
   "outputs": [],
   "source": [
    "df_aux = df_MAmix[cols_key + cols_outputNum] # get the outputs as classes\n",
    "df_aux.columns = cols_key + cols_outputClass # rename the names including Class\n",
    "df_aux.columns"
   ]
  },
  {
   "cell_type": "code",
   "execution_count": null,
   "metadata": {},
   "outputs": [],
   "source": [
    "df = pd.merge(df, df_aux, on=['SerNum']) # add classes\n",
    "df.columns"
   ]
  },
  {
   "cell_type": "code",
   "execution_count": null,
   "metadata": {},
   "outputs": [],
   "source": [
    "df_aux = df_MAmix[cols_key + cols_MAmix] # get the MA mix\n",
    "df_aux.columns"
   ]
  },
  {
   "cell_type": "code",
   "execution_count": null,
   "metadata": {},
   "outputs": [],
   "source": [
    "df = pd.merge(df, df_aux, on=['SerNum']) # add MA mix\n",
    "df.columns"
   ]
  },
  {
   "cell_type": "code",
   "execution_count": null,
   "metadata": {},
   "outputs": [],
   "source": [
    "df_aux = df_MAi[cols_key + cols_MAi] # get the MA mix\n",
    "df_aux.columns"
   ]
  },
  {
   "cell_type": "code",
   "execution_count": null,
   "metadata": {},
   "outputs": [],
   "source": [
    "df = pd.merge(df, df_aux, on=['SerNum']) # add MAi\n",
    "df.columns"
   ]
  },
  {
   "cell_type": "code",
   "execution_count": null,
   "metadata": {},
   "outputs": [],
   "source": [
    "# save dataset\n",
    "print('-> Saving new dataset ...')\n",
    "df.to_csv('./datasets/ds.bones_complete.csv', index=False)\n",
    "print('Done!')"
   ]
  },
  {
   "cell_type": "markdown",
   "metadata": {},
   "source": [
    "## Generation of datasets\n",
    "\n",
    "Combine list of columns to generate different dataset:\n",
    "- cols_EC\n",
    "- cols_outputNum\n",
    "- cols_outputClass\n",
    "- cols_metabolism\n",
    "- cols_MAmix\n",
    "- cols_MAi\n",
    "- cols_aux\n",
    "- cols_key\n",
    "- cols_pi\n",
    "- cols_pmix"
   ]
  },
  {
   "cell_type": "code",
   "execution_count": null,
   "metadata": {},
   "outputs": [],
   "source": [
    "# Generate ds for classification: MAmix (6)\n",
    "suf = 'MAmix'\n",
    "for col in cols_outputClass:\n",
    "    cols = [col] + cols_MAmix\n",
    "    newdf = df[cols].copy()\n",
    "    newdf.columns = [col+'_'+suf] + cols_MAmix\n",
    "    newFile = './datasets2/ds.'+str(col)+'_'+suf+'.csv'\n",
    "    print('-> Saving', newFile, '...')\n",
    "    newdf.to_csv(newFile, index=False)\n",
    "print('Done!')"
   ]
  },
  {
   "cell_type": "code",
   "execution_count": null,
   "metadata": {},
   "outputs": [],
   "source": [
    "# Generate ds for classification: MAi (18)\n",
    "suf = 'MAi'\n",
    "for col in cols_outputClass:\n",
    "    cols = [col] + cols_MAi\n",
    "    newdf = df[cols].copy()\n",
    "    newdf.columns = [col+'_'+suf] + cols_MAi\n",
    "    newFile = './datasets2/ds.'+str(col)+'_'+suf+'.csv'\n",
    "    print('-> Saving', newFile, '...')\n",
    "    newdf.to_csv(newFile, index=False)\n",
    "print('Done!')"
   ]
  },
  {
   "cell_type": "code",
   "execution_count": null,
   "metadata": {},
   "outputs": [],
   "source": [
    "# Generate ds for classification: MAi + MAmix (24)\n",
    "suf = 'MAi_MAmix'\n",
    "for col in cols_outputClass:\n",
    "    cols = [col] + cols_MAi + cols_MAmix\n",
    "    newdf = df[cols].copy()\n",
    "    newdf.columns = [col+'_'+suf] + cols_MAi + cols_MAmix\n",
    "    newFile = './datasets2/ds.'+str(col)+'_'+suf+'.csv'\n",
    "    print('-> Saving', newFile, '...')\n",
    "    newdf.to_csv(newFile, index=False)\n",
    "print('Done!')"
   ]
  },
  {
   "cell_type": "code",
   "execution_count": null,
   "metadata": {},
   "outputs": [],
   "source": [
    "# Generate ds for classification: MAi + MAmix + Metab (30!)\n",
    "suf = 'MAi_MAmix_Metab'\n",
    "for col in cols_outputClass:\n",
    "    cols = [col] + cols_MAi + cols_MAmix + cols_metabolism\n",
    "    newdf = df[cols].copy()\n",
    "    newdf.columns = [col+'_'+suf] + cols_MAi + cols_MAmix + cols_metabolism\n",
    "    newFile = './datasets2/ds.'+str(col)+'_'+suf+'.csv'\n",
    "    print('-> Saving', newFile, '...')\n",
    "    newdf.to_csv(newFile, index=False)\n",
    "print('Done!')"
   ]
  },
  {
   "cell_type": "code",
   "execution_count": null,
   "metadata": {},
   "outputs": [],
   "source": [
    "# Generate ds for classification: MAi + Metab (24)\n",
    "suf = 'MAi_Metab'\n",
    "for col in cols_outputClass:\n",
    "    cols = [col] + cols_MAi + cols_metabolism\n",
    "    newdf = df[cols].copy()\n",
    "    newdf.columns = [col+'_'+suf] + cols_MAi + cols_metabolism\n",
    "    newFile = './datasets2/ds.'+str(col)+'_'+suf+'.csv'\n",
    "    print('-> Saving', newFile, '...')\n",
    "    newdf.to_csv(newFile, index=False)\n",
    "print('Done!')"
   ]
  },
  {
   "cell_type": "code",
   "execution_count": null,
   "metadata": {},
   "outputs": [],
   "source": [
    "# Generate ds for classification: MAmix + Metab (12)\n",
    "suf = 'MAmix_Metab'\n",
    "for col in cols_outputClass:\n",
    "    cols = [col] + cols_MAmix + cols_metabolism\n",
    "    newdf = df[cols].copy()\n",
    "    newdf.columns = [col+'_'+suf] + cols_MAmix + cols_metabolism\n",
    "    newFile = './datasets2/ds.'+str(col)+'_'+suf+'.csv'\n",
    "    print('-> Saving', newFile, '...')\n",
    "    newdf.to_csv(newFile, index=False)\n",
    "print('Done!')"
   ]
  },
  {
   "cell_type": "markdown",
   "metadata": {},
   "source": [
    "## Add probabilities for ECs"
   ]
  },
  {
   "cell_type": "code",
   "execution_count": null,
   "metadata": {},
   "outputs": [],
   "source": [
    "# Add both individual probability of each EC in dataset and mixed probability of a set of EC (product of individual probability)\n",
    "\n",
    "dff = df.copy()\n",
    "dff['Prob_Mix'] = 1 # create mixed probability = product of EC probabilities\n",
    "\n",
    "for experim in cols_EC:\n",
    "    dfx = df[cols_EC+cols_key].copy()\n",
    "\n",
    "    # counts of ECs\n",
    "    countEC = dfx.groupby(experim, as_index = False).agg({cols_key[0]:\"count\"})\n",
    "\n",
    "    # calculate probabilities\n",
    "    countEC[cols_key[0]] = countEC[cols_key[0]]/countEC[cols_key[0]].sum()\n",
    "    \n",
    "    # rename column\n",
    "    countEC = countEC.rename(columns={cols_key[0]: 'Prob_'+ experim})\n",
    "    \n",
    "    dff = pd.merge(dff, countEC, on=experim)\n",
    "    \n",
    "    dff['Prob_Mix'] = dff['Prob_Mix'] * dff['Prob_'+ experim]"
   ]
  },
  {
   "cell_type": "code",
   "execution_count": null,
   "metadata": {},
   "outputs": [],
   "source": [
    "# save the new dataset\n",
    "dff.to_csv('./datasets/ds.bones_complete.csv', index=False)"
   ]
  },
  {
   "cell_type": "code",
   "execution_count": null,
   "metadata": {},
   "outputs": [],
   "source": [
    "# Generate ds for classification: MAmix + pmix (7)\n",
    "suf = 'MAmix_Pmix'\n",
    "for col in cols_outputClass:\n",
    "    cols = [col] + cols_MAmix + cols_pmix\n",
    "    newdf = dff[cols].copy()\n",
    "    newdf.columns = [col+'_'+suf] + cols_MAmix + cols_pmix\n",
    "    newFile = './datasets2/ds.'+str(col)+'_'+suf+'.csv'\n",
    "    print('-> Saving', newFile, '...')\n",
    "    newdf.to_csv(newFile, index=False)\n",
    "print('Done!')"
   ]
  },
  {
   "cell_type": "code",
   "execution_count": null,
   "metadata": {},
   "outputs": [],
   "source": [
    "# Generate ds for classification: MAi + pi (21)\n",
    "suf = 'MAi_Pi'\n",
    "for col in cols_outputClass:\n",
    "    cols = [col] + cols_MAi + cols_pi\n",
    "    newdf = dff[cols].copy()\n",
    "    newdf.columns = [col+'_'+suf] + cols_MAi + cols_pi\n",
    "    newFile = './datasets2/ds.'+str(col)+'_'+suf+'.csv'\n",
    "    print('-> Saving', newFile, '...')\n",
    "    newdf.to_csv(newFile, index=False)\n",
    "print('Done!')"
   ]
  },
  {
   "cell_type": "code",
   "execution_count": null,
   "metadata": {},
   "outputs": [],
   "source": [
    "# Generate ds for classification: MAi + MAmix + Pi + Pmix (28)\n",
    "suf = 'MAi_MAmix_Pi_Pmix'\n",
    "for col in cols_outputClass:\n",
    "    cols = [col] + cols_MAi + cols_MAmix + cols_pi + cols_pmix\n",
    "    newdf = dff[cols].copy()\n",
    "    newdf.columns = [col+'_'+suf] + cols_MAi + cols_MAmix + cols_pi + cols_pmix\n",
    "    newFile = './datasets2/ds.'+str(col)+'_'+suf+'.csv'\n",
    "    print('-> Saving', newFile, '...')\n",
    "    newdf.to_csv(newFile, index=False)\n",
    "print('Done!')"
   ]
  },
  {
   "cell_type": "code",
   "execution_count": null,
   "metadata": {},
   "outputs": [],
   "source": [
    "# Generate ds for classification: MAi + MAmix + Metab + Pi + Pmix (34!)\n",
    "suf = 'MAi_MAmix_Metab_Pi_Pmix'\n",
    "for col in cols_outputClass:\n",
    "    cols = [col] + cols_MAi + cols_MAmix + cols_metabolism + cols_pi + cols_pmix\n",
    "    newdf = dff[cols].copy()\n",
    "    newdf.columns = [col+'_'+suf] + cols_MAi + cols_MAmix + cols_metabolism + cols_pi + cols_pmix\n",
    "    newFile = './datasets2/ds.'+str(col)+'_'+suf+'.csv'\n",
    "    print('-> Saving', newFile, '...')\n",
    "    newdf.to_csv(newFile, index=False)\n",
    "print('Done!')"
   ]
  },
  {
   "cell_type": "code",
   "execution_count": null,
   "metadata": {},
   "outputs": [],
   "source": [
    "# Generate ds for classification: MAi + Metab - Pi (27)\n",
    "suf = 'MAi_Metab_Pi'\n",
    "for col in cols_outputClass:\n",
    "    cols = [col] + cols_MAi + cols_metabolism + cols_pi\n",
    "    newdf = dff[cols].copy()\n",
    "    newdf.columns = [col+'_'+suf] + cols_MAi + cols_metabolism + cols_pi\n",
    "    newFile = './datasets2/ds.'+str(col)+'_'+suf+'.csv'\n",
    "    print('-> Saving', newFile, '...')\n",
    "    newdf.to_csv(newFile, index=False)\n",
    "print('Done!')"
   ]
  },
  {
   "cell_type": "code",
   "execution_count": null,
   "metadata": {},
   "outputs": [],
   "source": [
    "# Generate ds for classification: MAmix + Metab + Pmix (13)\n",
    "suf = 'MAmix_Metab_Pmix'\n",
    "for col in cols_outputClass:\n",
    "    cols = [col] + cols_MAmix + cols_metabolism + cols_pmix\n",
    "    newdf = dff[cols].copy()\n",
    "    newdf.columns = [col+'_'+suf] + cols_MAmix + cols_metabolism + cols_pmix\n",
    "    newFile = './datasets2/ds.'+str(col)+'_'+suf+'.csv'\n",
    "    print('-> Saving', newFile, '...')\n",
    "    newdf.to_csv(newFile, index=False)\n",
    "print('Done!')"
   ]
  },
  {
   "cell_type": "markdown",
   "metadata": {},
   "source": [
    "## Datasets without MAs\n",
    "\n",
    "Let's try some datasets without MAs but with one hot representation of the ECs. This is the classical ML alternative to the MA method."
   ]
  },
  {
   "cell_type": "code",
   "execution_count": null,
   "metadata": {},
   "outputs": [],
   "source": [
    "# Generate ds for classification: MAmix (6)\n",
    "suf = 'OneHot'\n",
    "for col in cols_outputClass:\n",
    "    cols = [col] + cols_EC_onehot + cols_metabolism\n",
    "    newdf = df[cols].copy()\n",
    "    newdf.columns = [col+'_'+suf] + cols_EC_onehot + cols_metabolism\n",
    "    newFile = './datasets3/ds.'+str(col)+'_'+suf+'.csv'\n",
    "    print('-> Saving', newFile, '...')\n",
    "    newdf.to_csv(newFile, index=False)\n",
    "print('Done!')"
   ]
  },
  {
   "cell_type": "code",
   "execution_count": null,
   "metadata": {},
   "outputs": [],
   "source": []
  }
 ],
 "metadata": {
  "kernelspec": {
   "display_name": "Python 3",
   "language": "python",
   "name": "python3"
  },
  "language_info": {
   "codemirror_mode": {
    "name": "ipython",
    "version": 3
   },
   "file_extension": ".py",
   "mimetype": "text/x-python",
   "name": "python",
   "nbconvert_exporter": "python",
   "pygments_lexer": "ipython3",
   "version": "3.5.2"
  }
 },
 "nbformat": 4,
 "nbformat_minor": 2
}
